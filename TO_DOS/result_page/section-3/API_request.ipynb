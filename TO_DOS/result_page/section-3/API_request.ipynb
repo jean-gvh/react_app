{
 "cells": [
  {
   "cell_type": "code",
   "execution_count": 9,
   "metadata": {},
   "outputs": [],
   "source": [
    "APPLICATION_ID='jeanguin-test-SBX-3220d980b-34196f20'"
   ]
  },
  {
   "cell_type": "code",
   "execution_count": 10,
   "metadata": {},
   "outputs": [],
   "source": [
    "from ebaysdk.finding import Connection\n",
    "from ebaysdk.exception import ConnectionError"
   ]
  },
  {
   "cell_type": "code",
   "execution_count": 18,
   "metadata": {},
   "outputs": [
    {
     "name": "stdout",
     "output_type": "stream",
     "text": [
      "{'ack': 'Success', 'version': '1.13.0', 'timestamp': '2024-03-23T13:44:35.870Z', 'searchResult': {'_count': '0'}, 'paginationOutput': {'pageNumber': '0', 'entriesPerPage': '10', 'totalPages': '0', 'totalEntries': '0'}, 'itemSearchURL': 'https://shop.sandbox.ebay.com/i.html?LH_Auction=1&_nkw=voiture&_ddo=1&_ipg=10&_pgn=1'}\n"
     ]
    }
   ],
   "source": [
    "def get_auctions_for_pokemon(pokemon_name):\n",
    "    try:\n",
    "        api = Connection(domain='svcs.sandbox.ebay.com', appid=APPLICATION_ID, config_file=None)\n",
    "      \n",
    "        payload = {\n",
    "            'keywords': pokemon_name,\n",
    "            'itemFilter': [\n",
    "                {'name': 'ListingType', 'value': ['AuctionWithBIN', 'Auction']}\n",
    "            ],\n",
    "            'paginationInput': {\n",
    "                'entriesPerPage': 10\n",
    "            }\n",
    "        }\n",
    "        response = api.execute('findItemsByKeywords', payload)\n",
    "        return response.dict()\n",
    "    except ConnectionError as e:\n",
    "        print(e)\n",
    "        print(e.response.dict())\n",
    "\n",
    "# Exemple d'utilisation\n",
    "pokemon_name = \"voiture\"\n",
    "results = get_auctions_for_pokemon(pokemon_name)\n",
    "print(results)"
   ]
  },
  {
   "cell_type": "code",
   "execution_count": 14,
   "metadata": {},
   "outputs": [],
   "source": [
    "payload = {\n",
    "        'keywords': 'Defender', \n",
    "        'categoryId': ['29748'],\n",
    "        'itemFilter': [\n",
    "            {'name': 'LocatedIn', 'value': 'GB'},\n",
    "        ],\n",
    "        'sortOrder': 'StartTimeNewest',\n",
    "}\n",
    "\n",
    "results = get_results(payload)"
   ]
  },
  {
   "cell_type": "code",
   "execution_count": 3,
   "metadata": {},
   "outputs": [
    {
     "name": "stdout",
     "output_type": "stream",
     "text": [
      "Une erreur s'est produite lors de la requête: 500\n"
     ]
    }
   ],
   "source": [
    "import requests\n",
    "\n",
    "# Définir les paramètres de la requête\n",
    "url = \"https://svcs.ebay.com/services/search/FindingService/v1\"\n",
    "params = {\n",
    "    \"OPERATION-NAME\": \"findItemsAdvanced\",\n",
    "    \"SERVICE-VERSION\": \"1.0.0\",\n",
    "    \"SECURITY-APPNAME\": \"jeanguin-test-SBX-3220d980b-34196f20\",  # Remplacez \"YourAppID\" par votre ID d'application eBay\n",
    "    \"RESPONSE-DATA-FORMAT\": \"JSON\",\n",
    "    \"REST-PAYLOAD\": \"\",\n",
    "    \"keywords\": \"pokemon charizard\",\n",
    "    \"itemFilter(0).name\": \"ListingType\",\n",
    "    \"itemFilter(0).value(0)\": \"AuctionWithBIN\",\n",
    "    \"itemFilter(0).value(1)\": \"Auction\",\n",
    "    \"paginationInput.entriesPerPage\": 10\n",
    "}\n",
    "\n",
    "# Effectuer la requête GET\n",
    "response = requests.get(url, params=params)\n",
    "\n",
    "# Vérifier le statut de la réponse\n",
    "if response.status_code == 200:\n",
    "    # Afficher les données de la réponse au format JSON\n",
    "    print(response.json())\n",
    "else:\n",
    "    print(\"Une erreur s'est produite lors de la requête:\", response.status_code)\n"
   ]
  },
  {
   "cell_type": "code",
   "execution_count": 2,
   "metadata": {},
   "outputs": [
    {
     "name": "stdout",
     "output_type": "stream",
     "text": [
      "Error: 500\n"
     ]
    }
   ],
   "source": []
  }
 ],
 "metadata": {
  "kernelspec": {
   "display_name": "Python 3",
   "language": "python",
   "name": "python3"
  },
  "language_info": {
   "codemirror_mode": {
    "name": "ipython",
    "version": 3
   },
   "file_extension": ".py",
   "mimetype": "text/x-python",
   "name": "python",
   "nbconvert_exporter": "python",
   "pygments_lexer": "ipython3",
   "version": "3.12.2"
  }
 },
 "nbformat": 4,
 "nbformat_minor": 2
}
