{
 "cells": [
  {
   "cell_type": "code",
   "execution_count": 32,
   "metadata": {},
   "outputs": [],
   "source": [
    "APPLICATION_ID='jeanguin-test-PRD-321e8fc30-d70f07ea'"
   ]
  },
  {
   "cell_type": "code",
   "execution_count": 38,
   "metadata": {},
   "outputs": [],
   "source": [
    "from ebaysdk.finding import Connection as Finding\n",
    "from ebaysdk.exception import ConnectionError\n",
    "import pandas as pd"
   ]
  },
  {
   "cell_type": "code",
   "execution_count": 34,
   "metadata": {},
   "outputs": [],
   "source": [
    "def get_results(payload):\n",
    "    try:\n",
    "        api = Finding(domain='svcs.ebay.com', appid=APPLICATION_ID, config_file=None)\n",
    "        payload['itemFilter'] = [\n",
    "            {'name': 'LocatedIn', 'value': 'FR'},\n",
    "            {'name': 'ListingType', 'value': 'Auction'}\n",
    "        ]\n",
    "        response = api.execute('findItemsAdvanced', payload)\n",
    "        return response.dict()\n",
    "    except ConnectionError as e:\n",
    "        print(e)\n",
    "        print(e.response.dict())\n",
    "\n",
    "payload = {\n",
    "    'keywords': 'dracaufeu ex 199/165',\n",
    "    'paginationInput': {'entriesPerPage': 10}\n",
    "}\n",
    "\n",
    "def extract_info(response):\n",
    "    items = response.get('searchResult', {}).get('item', [])\n",
    "    extracted_info = []\n",
    "\n",
    "    for item in items:\n",
    "        item_info = {\n",
    "            'title': item.get('title', ''),\n",
    "            'galleryURL': item.get('galleryURL', ''),\n",
    "            'viewItemURL': item.get('viewItemURL', ''),\n",
    "            'location': item.get('location', ''),\n",
    "            'currentPrice': item.get('sellingStatus', {}).get('currentPrice', {}).get('value', ''),\n",
    "            'currency': item.get('sellingStatus', {}).get('currentPrice', {}).get('_currencyId', ''),\n",
    "            'bidCount': item.get('sellingStatus', {}).get('bidCount', ''),\n",
    "            'sellingState': item.get('sellingStatus', {}).get('sellingState', ''),\n",
    "            'startTime': item.get('listingInfo', {}).get('startTime', ''),\n",
    "            'endTime': item.get('listingInfo', {}).get('endTime', ''),\n",
    "            'watchCount': item.get('listingInfo', {}).get('watchCount', ''),\n",
    "            'condition': item.get('condition', {}).get('conditionDisplayName', '')\n",
    "        }\n",
    "        extracted_info.append(item_info)\n",
    "\n",
    "    return extracted_info"
   ]
  },
  {
   "cell_type": "code",
   "execution_count": 41,
   "metadata": {},
   "outputs": [
    {
     "data": {
      "text/plain": [
       "{'ack': 'Success',\n",
       " 'version': '1.13.0',\n",
       " 'timestamp': '2024-03-23T15:38:06.249Z',\n",
       " 'searchResult': {'item': [{'itemId': '126391142647',\n",
       "    'title': 'Carte Pokemon Dracaufeu EX Alternative 199/165 Mew 151 PSA 10 FR MINT FR EV3.5',\n",
       "    'globalId': 'EBAY-FR',\n",
       "    'primaryCategory': {'categoryId': '183454',\n",
       "     'categoryName': \"JCC : cartes à l'unité\"},\n",
       "    'galleryURL': 'https://i.ebayimg.com/thumbs/images/g/rt0AAOSw85Fl~Ku7/s-l140.jpg',\n",
       "    'viewItemURL': 'https://www.ebay.com/itm/Carte-Pokemon-Dracaufeu-EX-Alternative-199-165-Mew-151-PSA-10-FR-MINT-FR-EV3-5-/126391142647',\n",
       "    'autoPay': 'false',\n",
       "    'postalCode': '340**',\n",
       "    'location': 'France',\n",
       "    'country': 'FR',\n",
       "    'shippingInfo': {'shippingType': 'NotSpecified',\n",
       "     'shipToLocations': 'Worldwide',\n",
       "     'expeditedShipping': 'false',\n",
       "     'oneDayShippingAvailable': 'false',\n",
       "     'handlingTime': '2'},\n",
       "    'sellingStatus': {'currentPrice': {'_currencyId': 'EUR', 'value': '211.0'},\n",
       "     'convertedCurrentPrice': {'_currencyId': 'USD', 'value': '228.22'},\n",
       "     'bidCount': '9',\n",
       "     'sellingState': 'Active',\n",
       "     'timeLeft': 'P9DT3H46M55S'},\n",
       "    'listingInfo': {'bestOfferEnabled': 'false',\n",
       "     'buyItNowAvailable': 'false',\n",
       "     'startTime': '2024-03-22T19:26:49.000Z',\n",
       "     'endTime': '2024-04-01T19:25:01.000Z',\n",
       "     'listingType': 'Auction',\n",
       "     'gift': 'false',\n",
       "     'watchCount': '24'},\n",
       "    'returnsAccepted': 'true',\n",
       "    'condition': {'conditionId': '2750', 'conditionDisplayName': 'Graded'},\n",
       "    'isMultiVariationListing': 'false',\n",
       "    'topRatedListing': 'false'}],\n",
       "  '_count': '1'},\n",
       " 'paginationOutput': {'pageNumber': '1',\n",
       "  'entriesPerPage': '10',\n",
       "  'totalPages': '1',\n",
       "  'totalEntries': '1'},\n",
       " 'itemSearchURL': 'https://www.ebay.com/sch/i.html?LH_Auction=1&LH_LocatedIn=1&_nkw=dracaufeu+ex+199%2F165&_ddo=1&_fls=1&_incaucbin=0&_ipg=10&_pgn=1&_salic=71'}"
      ]
     },
     "execution_count": 41,
     "metadata": {},
     "output_type": "execute_result"
    }
   ],
   "source": [
    "results  = get_results(payload)\n",
    "results"
   ]
  },
  {
   "cell_type": "code",
   "execution_count": 40,
   "metadata": {},
   "outputs": [
    {
     "data": {
      "text/html": [
       "<div>\n",
       "<style scoped>\n",
       "    .dataframe tbody tr th:only-of-type {\n",
       "        vertical-align: middle;\n",
       "    }\n",
       "\n",
       "    .dataframe tbody tr th {\n",
       "        vertical-align: top;\n",
       "    }\n",
       "\n",
       "    .dataframe thead th {\n",
       "        text-align: right;\n",
       "    }\n",
       "</style>\n",
       "<table border=\"1\" class=\"dataframe\">\n",
       "  <thead>\n",
       "    <tr style=\"text-align: right;\">\n",
       "      <th></th>\n",
       "      <th>title</th>\n",
       "      <th>galleryURL</th>\n",
       "      <th>viewItemURL</th>\n",
       "      <th>location</th>\n",
       "      <th>currentPrice</th>\n",
       "      <th>currency</th>\n",
       "      <th>bidCount</th>\n",
       "      <th>sellingState</th>\n",
       "      <th>startTime</th>\n",
       "      <th>endTime</th>\n",
       "      <th>watchCount</th>\n",
       "      <th>condition</th>\n",
       "    </tr>\n",
       "  </thead>\n",
       "  <tbody>\n",
       "    <tr>\n",
       "      <th>0</th>\n",
       "      <td>Carte Pokemon Dracaufeu EX Alternative 199/165...</td>\n",
       "      <td>https://i.ebayimg.com/thumbs/images/g/rt0AAOSw...</td>\n",
       "      <td>https://www.ebay.com/itm/Carte-Pokemon-Dracauf...</td>\n",
       "      <td>France</td>\n",
       "      <td>211.0</td>\n",
       "      <td>EUR</td>\n",
       "      <td>9</td>\n",
       "      <td>Active</td>\n",
       "      <td>2024-03-22T19:26:49.000Z</td>\n",
       "      <td>2024-04-01T19:25:01.000Z</td>\n",
       "      <td>24</td>\n",
       "      <td>Graded</td>\n",
       "    </tr>\n",
       "  </tbody>\n",
       "</table>\n",
       "</div>"
      ],
      "text/plain": [
       "                                               title  \\\n",
       "0  Carte Pokemon Dracaufeu EX Alternative 199/165...   \n",
       "\n",
       "                                          galleryURL  \\\n",
       "0  https://i.ebayimg.com/thumbs/images/g/rt0AAOSw...   \n",
       "\n",
       "                                         viewItemURL location currentPrice  \\\n",
       "0  https://www.ebay.com/itm/Carte-Pokemon-Dracauf...   France        211.0   \n",
       "\n",
       "  currency bidCount sellingState                 startTime  \\\n",
       "0      EUR        9       Active  2024-03-22T19:26:49.000Z   \n",
       "\n",
       "                    endTime watchCount condition  \n",
       "0  2024-04-01T19:25:01.000Z         24    Graded  "
      ]
     },
     "execution_count": 40,
     "metadata": {},
     "output_type": "execute_result"
    }
   ],
   "source": [
    "\n",
    "results = get_results(payload)\n",
    "extracted_info = extract_info(results)\n",
    "# Créer un DataFrame pandas\n",
    "df = pd.DataFrame(extracted_info)\n",
    "\n",
    "# Afficher le DataFrame\n",
    "df"
   ]
  }
 ],
 "metadata": {
  "kernelspec": {
   "display_name": "Python 3",
   "language": "python",
   "name": "python3"
  },
  "language_info": {
   "codemirror_mode": {
    "name": "ipython",
    "version": 3
   },
   "file_extension": ".py",
   "mimetype": "text/x-python",
   "name": "python",
   "nbconvert_exporter": "python",
   "pygments_lexer": "ipython3",
   "version": "3.12.2"
  }
 },
 "nbformat": 4,
 "nbformat_minor": 2
}
