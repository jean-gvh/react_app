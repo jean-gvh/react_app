{
 "cells": [
  {
   "cell_type": "code",
   "execution_count": 2,
   "metadata": {},
   "outputs": [],
   "source": [
    "APPLICATION_ID='jeanguin-test-PRD-321e8fc30-d70f07ea'"
   ]
  },
  {
   "cell_type": "code",
   "execution_count": 3,
   "metadata": {},
   "outputs": [],
   "source": [
    "from ebaysdk.finding import Connection as Finding\n",
    "from ebaysdk.exception import ConnectionError\n",
    "import pandas as pd\n",
    "import json"
   ]
  },
  {
   "cell_type": "code",
   "execution_count": 7,
   "metadata": {},
   "outputs": [],
   "source": [
    "def get_results(payload):\n",
    "    try:\n",
    "        api = Finding(domain='svcs.ebay.com', appid=APPLICATION_ID, config_file=None)\n",
    "        payload['itemFilter'] = [\n",
    "            {'name': 'LocatedIn', 'value': 'FR'},\n",
    "            {'name': 'ListingType', 'value': 'Auction'}\n",
    "        ]\n",
    "        response = api.execute('findItemsAdvanced', payload)\n",
    "        return json.dumps(response.dict())\n",
    "    except ConnectionError as e:\n",
    "        print(e)\n",
    "        print(e.response.dict())\n",
    "\n",
    "payload = {\n",
    "    'keywords': 'dracaufeu ex 199/165',\n",
    "    'paginationInput': {'entriesPerPage': 10}\n",
    "}\n",
    "\n",
    "def extract_info(response):\n",
    "    items = response.get('searchResult', {}).get('item', [])\n",
    "    extracted_info = []\n",
    "\n",
    "    for item in items:\n",
    "        item_info = {\n",
    "            'title': item.get('title', ''),\n",
    "            'galleryURL': item.get('galleryURL', ''),\n",
    "            'viewItemURL': item.get('viewItemURL', ''),\n",
    "            'location': item.get('location', ''),\n",
    "            'currentPrice': item.get('sellingStatus', {}).get('currentPrice', {}).get('value', ''),\n",
    "            'currency': item.get('sellingStatus', {}).get('currentPrice', {}).get('_currencyId', ''),\n",
    "            'bidCount': item.get('sellingStatus', {}).get('bidCount', ''),\n",
    "            'sellingState': item.get('sellingStatus', {}).get('sellingState', ''),\n",
    "            'startTime': item.get('listingInfo', {}).get('startTime', ''),\n",
    "            'endTime': item.get('listingInfo', {}).get('endTime', ''),\n",
    "            'watchCount': item.get('listingInfo', {}).get('watchCount', ''),\n",
    "            'condition': item.get('condition', {}).get('conditionDisplayName', '')\n",
    "        }\n",
    "        extracted_info.append(item_info)\n",
    "\n",
    "    return extracted_info"
   ]
  },
  {
   "cell_type": "code",
   "execution_count": 8,
   "metadata": {},
   "outputs": [
    {
     "ename": "NameError",
     "evalue": "name 'JSON' is not defined",
     "output_type": "error",
     "traceback": [
      "\u001b[1;31m---------------------------------------------------------------------------\u001b[0m",
      "\u001b[1;31mNameError\u001b[0m                                 Traceback (most recent call last)",
      "Cell \u001b[1;32mIn[8], line 1\u001b[0m\n\u001b[1;32m----> 1\u001b[0m results  \u001b[38;5;241m=\u001b[39m \u001b[43mget_results\u001b[49m\u001b[43m(\u001b[49m\u001b[43mpayload\u001b[49m\u001b[43m)\u001b[49m\n\u001b[0;32m      2\u001b[0m results\n",
      "Cell \u001b[1;32mIn[7], line 9\u001b[0m, in \u001b[0;36mget_results\u001b[1;34m(payload)\u001b[0m\n\u001b[0;32m      4\u001b[0m     payload[\u001b[38;5;124m'\u001b[39m\u001b[38;5;124mitemFilter\u001b[39m\u001b[38;5;124m'\u001b[39m] \u001b[38;5;241m=\u001b[39m [\n\u001b[0;32m      5\u001b[0m         {\u001b[38;5;124m'\u001b[39m\u001b[38;5;124mname\u001b[39m\u001b[38;5;124m'\u001b[39m: \u001b[38;5;124m'\u001b[39m\u001b[38;5;124mLocatedIn\u001b[39m\u001b[38;5;124m'\u001b[39m, \u001b[38;5;124m'\u001b[39m\u001b[38;5;124mvalue\u001b[39m\u001b[38;5;124m'\u001b[39m: \u001b[38;5;124m'\u001b[39m\u001b[38;5;124mFR\u001b[39m\u001b[38;5;124m'\u001b[39m},\n\u001b[0;32m      6\u001b[0m         {\u001b[38;5;124m'\u001b[39m\u001b[38;5;124mname\u001b[39m\u001b[38;5;124m'\u001b[39m: \u001b[38;5;124m'\u001b[39m\u001b[38;5;124mListingType\u001b[39m\u001b[38;5;124m'\u001b[39m, \u001b[38;5;124m'\u001b[39m\u001b[38;5;124mvalue\u001b[39m\u001b[38;5;124m'\u001b[39m: \u001b[38;5;124m'\u001b[39m\u001b[38;5;124mAuction\u001b[39m\u001b[38;5;124m'\u001b[39m}\n\u001b[0;32m      7\u001b[0m     ]\n\u001b[0;32m      8\u001b[0m     response \u001b[38;5;241m=\u001b[39m api\u001b[38;5;241m.\u001b[39mexecute(\u001b[38;5;124m'\u001b[39m\u001b[38;5;124mfindItemsAdvanced\u001b[39m\u001b[38;5;124m'\u001b[39m, payload)\n\u001b[1;32m----> 9\u001b[0m     \u001b[38;5;28;01mreturn\u001b[39;00m \u001b[43mJSON\u001b[49m(response)\n\u001b[0;32m     10\u001b[0m \u001b[38;5;28;01mexcept\u001b[39;00m \u001b[38;5;167;01mConnectionError\u001b[39;00m \u001b[38;5;28;01mas\u001b[39;00m e:\n\u001b[0;32m     11\u001b[0m     \u001b[38;5;28mprint\u001b[39m(e)\n",
      "\u001b[1;31mNameError\u001b[0m: name 'JSON' is not defined"
     ]
    }
   ],
   "source": [
    "results  = get_results(payload)\n",
    "results"
   ]
  },
  {
   "cell_type": "code",
   "execution_count": 6,
   "metadata": {},
   "outputs": [
    {
     "ename": "AttributeError",
     "evalue": "'Response' object has no attribute 'get'",
     "output_type": "error",
     "traceback": [
      "\u001b[1;31m---------------------------------------------------------------------------\u001b[0m",
      "\u001b[1;31mAttributeError\u001b[0m                            Traceback (most recent call last)",
      "Cell \u001b[1;32mIn[6], line 2\u001b[0m\n\u001b[0;32m      1\u001b[0m results \u001b[38;5;241m=\u001b[39m get_results(payload)\n\u001b[1;32m----> 2\u001b[0m extracted_info \u001b[38;5;241m=\u001b[39m \u001b[43mextract_info\u001b[49m\u001b[43m(\u001b[49m\u001b[43mresults\u001b[49m\u001b[43m)\u001b[49m\n\u001b[0;32m      3\u001b[0m \u001b[38;5;66;03m# Créer un DataFrame pandas\u001b[39;00m\n\u001b[0;32m      4\u001b[0m df \u001b[38;5;241m=\u001b[39m pd\u001b[38;5;241m.\u001b[39mDataFrame(extracted_info)\n",
      "Cell \u001b[1;32mIn[4], line 20\u001b[0m, in \u001b[0;36mextract_info\u001b[1;34m(response)\u001b[0m\n\u001b[0;32m     19\u001b[0m \u001b[38;5;28;01mdef\u001b[39;00m \u001b[38;5;21mextract_info\u001b[39m(response):\n\u001b[1;32m---> 20\u001b[0m     items \u001b[38;5;241m=\u001b[39m \u001b[43mresponse\u001b[49m\u001b[38;5;241;43m.\u001b[39;49m\u001b[43mget\u001b[49m(\u001b[38;5;124m'\u001b[39m\u001b[38;5;124msearchResult\u001b[39m\u001b[38;5;124m'\u001b[39m, {})\u001b[38;5;241m.\u001b[39mget(\u001b[38;5;124m'\u001b[39m\u001b[38;5;124mitem\u001b[39m\u001b[38;5;124m'\u001b[39m, [])\n\u001b[0;32m     21\u001b[0m     extracted_info \u001b[38;5;241m=\u001b[39m []\n\u001b[0;32m     23\u001b[0m     \u001b[38;5;28;01mfor\u001b[39;00m item \u001b[38;5;129;01min\u001b[39;00m items:\n",
      "File \u001b[1;32mc:\\Python312\\Lib\\site-packages\\ebaysdk\\response.py:229\u001b[0m, in \u001b[0;36mResponse.__getattr__\u001b[1;34m(self, name)\u001b[0m\n\u001b[0;32m    228\u001b[0m \u001b[38;5;28;01mdef\u001b[39;00m \u001b[38;5;21m__getattr__\u001b[39m(\u001b[38;5;28mself\u001b[39m, name):\n\u001b[1;32m--> 229\u001b[0m     \u001b[38;5;28;01mreturn\u001b[39;00m \u001b[38;5;28;43mgetattr\u001b[39;49m\u001b[43m(\u001b[49m\u001b[38;5;28;43mself\u001b[39;49m\u001b[38;5;241;43m.\u001b[39;49m\u001b[43m_obj\u001b[49m\u001b[43m,\u001b[49m\u001b[43m \u001b[49m\u001b[43mname\u001b[49m\u001b[43m)\u001b[49m\n",
      "\u001b[1;31mAttributeError\u001b[0m: 'Response' object has no attribute 'get'"
     ]
    }
   ],
   "source": [
    "\n",
    "results = get_results(payload)\n",
    "extracted_info = extract_info(results)\n",
    "# Créer un DataFrame pandas\n",
    "df = pd.DataFrame(extracted_info)\n",
    "\n",
    "# Afficher le DataFrame\n",
    "df"
   ]
  }
 ],
 "metadata": {
  "kernelspec": {
   "display_name": "Python 3",
   "language": "python",
   "name": "python3"
  },
  "language_info": {
   "codemirror_mode": {
    "name": "ipython",
    "version": 3
   },
   "file_extension": ".py",
   "mimetype": "text/x-python",
   "name": "python",
   "nbconvert_exporter": "python",
   "pygments_lexer": "ipython3",
   "version": "3.12.2"
  }
 },
 "nbformat": 4,
 "nbformat_minor": 2
}
