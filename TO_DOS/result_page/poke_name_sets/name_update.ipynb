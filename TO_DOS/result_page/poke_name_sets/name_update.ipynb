{
 "cells": [
  {
   "cell_type": "code",
   "execution_count": 1,
   "metadata": {},
   "outputs": [],
   "source": [
    "import pandas as pd"
   ]
  },
  {
   "cell_type": "code",
   "execution_count": 3,
   "metadata": {},
   "outputs": [],
   "source": [
    "poke_link_df = pd.read_csv(r\"C:\\react_app\\frontend\\public\\app_research_pokemon.csv\")"
   ]
  },
  {
   "cell_type": "code",
   "execution_count": 11,
   "metadata": {},
   "outputs": [
    {
     "data": {
      "text/html": [
       "<div>\n",
       "<style scoped>\n",
       "    .dataframe tbody tr th:only-of-type {\n",
       "        vertical-align: middle;\n",
       "    }\n",
       "\n",
       "    .dataframe tbody tr th {\n",
       "        vertical-align: top;\n",
       "    }\n",
       "\n",
       "    .dataframe thead th {\n",
       "        text-align: right;\n",
       "    }\n",
       "</style>\n",
       "<table border=\"1\" class=\"dataframe\">\n",
       "  <thead>\n",
       "    <tr style=\"text-align: right;\">\n",
       "      <th></th>\n",
       "      <th>set_name</th>\n",
       "      <th>card_name</th>\n",
       "      <th>release_date</th>\n",
       "      <th>cards_count</th>\n",
       "      <th>bloc_name</th>\n",
       "      <th>img_link</th>\n",
       "    </tr>\n",
       "  </thead>\n",
       "  <tbody>\n",
       "    <tr>\n",
       "      <th>0</th>\n",
       "      <td>151</td>\n",
       "      <td>bulbizarre 1 165</td>\n",
       "      <td>22/09/2023</td>\n",
       "      <td>207</td>\n",
       "      <td>Écarlate et Violet</td>\n",
       "      <td>//www.pokecardex.com/assets/images/sets/MEW/HD...</td>\n",
       "    </tr>\n",
       "    <tr>\n",
       "      <th>1</th>\n",
       "      <td>151</td>\n",
       "      <td>herbizarre 2 165</td>\n",
       "      <td>22/09/2023</td>\n",
       "      <td>207</td>\n",
       "      <td>Écarlate et Violet</td>\n",
       "      <td>//www.pokecardex.com/assets/images/sets/MEW/HD...</td>\n",
       "    </tr>\n",
       "    <tr>\n",
       "      <th>2</th>\n",
       "      <td>151</td>\n",
       "      <td>florizarre ex 3 165</td>\n",
       "      <td>22/09/2023</td>\n",
       "      <td>207</td>\n",
       "      <td>Écarlate et Violet</td>\n",
       "      <td>//www.pokecardex.com/assets/images/sets/MEW/HD...</td>\n",
       "    </tr>\n",
       "  </tbody>\n",
       "</table>\n",
       "</div>"
      ],
      "text/plain": [
       "  set_name            card_name release_date  cards_count           bloc_name  \\\n",
       "0      151     bulbizarre 1 165   22/09/2023          207  Écarlate et Violet   \n",
       "1      151     herbizarre 2 165   22/09/2023          207  Écarlate et Violet   \n",
       "2      151  florizarre ex 3 165   22/09/2023          207  Écarlate et Violet   \n",
       "\n",
       "                                            img_link  \n",
       "0  //www.pokecardex.com/assets/images/sets/MEW/HD...  \n",
       "1  //www.pokecardex.com/assets/images/sets/MEW/HD...  \n",
       "2  //www.pokecardex.com/assets/images/sets/MEW/HD...  "
      ]
     },
     "execution_count": 11,
     "metadata": {},
     "output_type": "execute_result"
    }
   ],
   "source": [
    "poke_link_df.head(3)"
   ]
  },
  {
   "cell_type": "code",
   "execution_count": 5,
   "metadata": {},
   "outputs": [],
   "source": [
    "name_df = pd.read_csv(r\"C:\\Users\\Jean_Professionel\\Downloads\\pokemon_names.csv\")"
   ]
  },
  {
   "cell_type": "code",
   "execution_count": 9,
   "metadata": {},
   "outputs": [
    {
     "data": {
      "text/plain": [
       "15856"
      ]
     },
     "execution_count": 9,
     "metadata": {},
     "output_type": "execute_result"
    }
   ],
   "source": [
    "name_df.__len__()"
   ]
  },
  {
   "cell_type": "code",
   "execution_count": 12,
   "metadata": {},
   "outputs": [],
   "source": [
    "poke_link_df['card_name'] = name_df['card_name']"
   ]
  },
  {
   "cell_type": "code",
   "execution_count": 14,
   "metadata": {},
   "outputs": [],
   "source": [
    "poke_link_df.to_csv(\"C:/react_app/frontend/public/app_research_pokemon.csv\",index=False)"
   ]
  }
 ],
 "metadata": {
  "kernelspec": {
   "display_name": "Python 3",
   "language": "python",
   "name": "python3"
  },
  "language_info": {
   "codemirror_mode": {
    "name": "ipython",
    "version": 3
   },
   "file_extension": ".py",
   "mimetype": "text/x-python",
   "name": "python",
   "nbconvert_exporter": "python",
   "pygments_lexer": "ipython3",
   "version": "3.12.2"
  }
 },
 "nbformat": 4,
 "nbformat_minor": 2
}
